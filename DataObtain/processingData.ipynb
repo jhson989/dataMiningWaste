{
 "cells": [
  {
   "cell_type": "code",
   "execution_count": 3,
   "metadata": {
    "collapsed": true
   },
   "outputs": [],
   "source": [
    "# data analysis and wrangling\n",
    "import pandas as pd\n",
    "import numpy as np\n",
    "import random as rnd"
   ]
  },
  {
   "cell_type": "code",
   "execution_count": 15,
   "metadata": {
    "collapsed": true
   },
   "outputs": [],
   "source": [
    "data_df = pd.read_table('amountByCityDay2016.txt',index_col=False)"
   ]
  },
  {
   "cell_type": "code",
   "execution_count": 16,
   "metadata": {
    "collapsed": true
   },
   "outputs": [],
   "source": [
    "#specialCitys = ['서울','부산','대구','인천','광주','대전']\n",
    "specialCitys = ['서울']"
   ]
  },
  {
   "cell_type": "code",
   "execution_count": 17,
   "metadata": {},
   "outputs": [],
   "source": [
    "result_df = pd.DataFrame(columns = ['year','month','day','week','quantity','quantityrate','times','timerate','city'])"
   ]
  },
  {
   "cell_type": "code",
   "execution_count": 18,
   "metadata": {},
   "outputs": [],
   "source": [
    "appended_data = []\n",
    "for city in specialCitys:\n",
    "    temp_df = data_df.loc[data_df['do'] == city].groupby(['year','month','day','week']).sum()   \n",
    "    temp_df['city'] = city\n",
    "    appended_data.append(temp_df)"
   ]
  },
  {
   "cell_type": "code",
   "execution_count": 19,
   "metadata": {},
   "outputs": [],
   "source": [
    "result_df = pd.concat(appended_data)\n",
    "result_df.to_csv('selectedWasteData2016.csv')"
   ]
  },
  {
   "cell_type": "code",
   "execution_count": 72,
   "metadata": {
    "collapsed": true
   },
   "outputs": [],
   "source": [
    "citys = ['동두천','수원','이천','파주','강릉','동해','춘천','삼척','원주','홍천','청주','고창군','군산','남원','부안','순창군','임실','장수','전주','정읍','강진군','고흥','광양시','목포','무안','보성군','순천','여수','영광군','완도','장흥','주암','진도군','해남','흑산도','경주시','구미','문경','봉화','상주','안동','영덕','영주','영천','울릉도','울진','의성','청송군','포항','거제','거창','김해시','남해','밀양','북창원','산청','양산시','의령군','진주','창원','통영','함양군','합천','고산','서귀포','제주']\n",
    "for city in citys:\n",
    "    temp_df = data_df.loc[data_df['si'].str.contains(city)].groupby(['year','month','day','week']).sum()   \n",
    "    temp_df['city'] = city\n",
    "    appended_data.append(temp_df)"
   ]
  },
  {
   "cell_type": "code",
   "execution_count": 78,
   "metadata": {},
   "outputs": [
    {
     "data": {
      "text/html": [
       "<div>\n",
       "<table border=\"1\" class=\"dataframe\">\n",
       "  <thead>\n",
       "    <tr style=\"text-align: right;\">\n",
       "      <th></th>\n",
       "      <th>year</th>\n",
       "      <th>month</th>\n",
       "      <th>day</th>\n",
       "      <th>week</th>\n",
       "      <th>quantity</th>\n",
       "      <th>quantityrate</th>\n",
       "      <th>times</th>\n",
       "      <th>timerate</th>\n",
       "      <th>city</th>\n",
       "    </tr>\n",
       "  </thead>\n",
       "  <tbody>\n",
       "    <tr>\n",
       "      <th>10761</th>\n",
       "      <td>2015</td>\n",
       "      <td>12</td>\n",
       "      <td>27</td>\n",
       "      <td>1</td>\n",
       "      <td>21190950.0</td>\n",
       "      <td>3.84</td>\n",
       "      <td>7909.0</td>\n",
       "      <td>3.52</td>\n",
       "      <td>제주</td>\n",
       "    </tr>\n",
       "    <tr>\n",
       "      <th>10762</th>\n",
       "      <td>2015</td>\n",
       "      <td>12</td>\n",
       "      <td>28</td>\n",
       "      <td>2</td>\n",
       "      <td>18191850.0</td>\n",
       "      <td>3.29</td>\n",
       "      <td>7040.0</td>\n",
       "      <td>3.14</td>\n",
       "      <td>제주</td>\n",
       "    </tr>\n",
       "    <tr>\n",
       "      <th>10763</th>\n",
       "      <td>2015</td>\n",
       "      <td>12</td>\n",
       "      <td>29</td>\n",
       "      <td>3</td>\n",
       "      <td>17397600.0</td>\n",
       "      <td>3.15</td>\n",
       "      <td>7115.0</td>\n",
       "      <td>3.17</td>\n",
       "      <td>제주</td>\n",
       "    </tr>\n",
       "    <tr>\n",
       "      <th>10764</th>\n",
       "      <td>2015</td>\n",
       "      <td>12</td>\n",
       "      <td>30</td>\n",
       "      <td>4</td>\n",
       "      <td>17577250.0</td>\n",
       "      <td>3.18</td>\n",
       "      <td>7159.0</td>\n",
       "      <td>3.19</td>\n",
       "      <td>제주</td>\n",
       "    </tr>\n",
       "    <tr>\n",
       "      <th>10765</th>\n",
       "      <td>2015</td>\n",
       "      <td>12</td>\n",
       "      <td>31</td>\n",
       "      <td>5</td>\n",
       "      <td>18619100.0</td>\n",
       "      <td>3.37</td>\n",
       "      <td>7569.0</td>\n",
       "      <td>3.37</td>\n",
       "      <td>제주</td>\n",
       "    </tr>\n",
       "  </tbody>\n",
       "</table>\n",
       "</div>"
      ],
      "text/plain": [
       "       year  month  day  week    quantity  quantityrate   times  timerate city\n",
       "10761  2015     12   27     1  21190950.0          3.84  7909.0      3.52   제주\n",
       "10762  2015     12   28     2  18191850.0          3.29  7040.0      3.14   제주\n",
       "10763  2015     12   29     3  17397600.0          3.15  7115.0      3.17   제주\n",
       "10764  2015     12   30     4  17577250.0          3.18  7159.0      3.19   제주\n",
       "10765  2015     12   31     5  18619100.0          3.37  7569.0      3.37   제주"
      ]
     },
     "execution_count": 78,
     "metadata": {},
     "output_type": "execute_result"
    }
   ],
   "source": [
    "#test\n",
    "data = pd.read_csv('selectedWasteData2015.csv')\n",
    "data.tail()"
   ]
  },
  {
   "cell_type": "code",
   "execution_count": null,
   "metadata": {
    "collapsed": true
   },
   "outputs": [],
   "source": []
  }
 ],
 "metadata": {
  "anaconda-cloud": {},
  "kernelspec": {
   "display_name": "Python [default]",
   "language": "python",
   "name": "python2"
  },
  "language_info": {
   "codemirror_mode": {
    "name": "ipython",
    "version": 2
   },
   "file_extension": ".py",
   "mimetype": "text/x-python",
   "name": "python",
   "nbconvert_exporter": "python",
   "pygments_lexer": "ipython2",
   "version": "2.7.12"
  }
 },
 "nbformat": 4,
 "nbformat_minor": 1
}
